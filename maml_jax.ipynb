{
 "cells": [
  {
   "cell_type": "code",
   "execution_count": 3,
   "metadata": {},
   "outputs": [],
   "source": [
    "import jax.numpy as np\n",
    "from jax import grad"
   ]
  },
  {
   "cell_type": "code",
   "execution_count": 5,
   "metadata": {},
   "outputs": [
    {
     "name": "stdout",
     "output_type": "stream",
     "text": [
      "2.7182817\n",
      "2.7182817\n",
      "2.7182817\n",
      "4.0\n",
      "2.0\n",
      "0.0\n"
     ]
    }
   ],
   "source": [
    "f = lambda x : np.exp(x)\n",
    "g = lambda x : np.square(x)\n",
    "print(grad(f)(1.)) # = e^{1}\n",
    "print(grad(grad(f))(1.))\n",
    "print(grad(grad(grad(f)))(1.))\n",
    "\n",
    "print(grad(g)(2.)) # 2x = 4\n",
    "print(grad(grad(g))(2.)) # x = 2\n",
    "print(grad(grad(grad(g)))(2.)) # x = 0"
   ]
  }
 ],
 "metadata": {
  "kernelspec": {
   "display_name": "play",
   "language": "python",
   "name": "python3"
  },
  "language_info": {
   "codemirror_mode": {
    "name": "ipython",
    "version": 3
   },
   "file_extension": ".py",
   "mimetype": "text/x-python",
   "name": "python",
   "nbconvert_exporter": "python",
   "pygments_lexer": "ipython3",
   "version": "3.8.18"
  },
  "orig_nbformat": 4
 },
 "nbformat": 4,
 "nbformat_minor": 2
}
